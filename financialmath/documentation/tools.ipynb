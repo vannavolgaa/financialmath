{
 "cells": [
  {
   "cell_type": "markdown",
   "metadata": {},
   "source": [
    "# Tools \n",
    "\n",
    "## 1 - Date\n",
    "\n",
    "This module helps with dates for time series, computation of year fractions and processing dates. DateTool has a number of functions related to the Python Object datetime and any other functions to use for dates should be put here. \n",
    "\n",
    "DayCountFactor is a class taking two separates date and computing the year fraction between them with respect to the choosed convention (check Enum list DayCountConvention). Note that the calculation is not made from days but from milliseconds which helps to be more precise for the year fraction. Especially if the two dates are separated from less than a day. The details of each method are given in the following link: \n",
    "https://en.wikipedia.org/wiki/Day_count_convention"
   ]
  },
  {
   "cell_type": "code",
   "execution_count": null,
   "metadata": {},
   "outputs": [],
   "source": [
    "from financialmath.tools.date import * \n",
    "from datetime import datetime\n",
    "\n",
    "from_date = datetime(year = 2021, month = 1, day = 1)\n",
    "to_date = datetime.now()\n",
    "\n",
    "convention_list = list(DayCountConvention)\n",
    "output = dict()\n",
    "for c in convention_list: \n",
    "    f = DayCountFactor(from_date,to_date,c).get()\n",
    "    output[c.value] = f\n",
    "print((output))"
   ]
  },
  {
   "cell_type": "markdown",
   "metadata": {},
   "source": [
    "The enum class TimeIntervalMilliseconds defines a set of time interval with the number of milliseconds corresponding. Note that this is done on a basis year of 365 days. \n",
    "\n",
    "## 2 - Tool \n",
    "\n",
    "Tool is a module with a class MainTool having a set of different functionnalities helping to process \n",
    "\n",
    "## 3 - Probability \n",
    "\n",
    "The module probability is where are defined any probability distribution that will be used in financialmath. They all inherit from the ProbabilityDistributionAbstract class and have the following functions: \n",
    "- probability density function \n",
    "- cumulative density function  \n",
    "- inverse cumulative density function (quantile)\n",
    "- random values generator \n",
    "- log-likelihood \n",
    "\n",
    "The probability distribution defined are: \n",
    "- Normal gaussian \n",
    "- Student T\n",
    "- Skewed-student T \n",
    "- Uniform distribution\n",
    "\n",
    "scipy.stats gives a large spectrum of defined probability distribution. However, sstudentt package is used for the Skewed-Student t.\n",
    "\n",
    "## 4 - Simulation \n",
    "\n",
    "the module simulation gives a generic method to produce random values from a distribution defined as a ProbabilityDistributionAbstract. It is mainly used to perform Mnte-Carlo and to evaluate integrals numerically. It supports thre methods of variance reduction: \n",
    "- antithetic variates \n",
    "- Quasi Monte Carlo using Sobol sequences \n",
    "- Quasi Monte Carlo using Halton sequences \n",
    "\n",
    "Why Variance Reduction? \n",
    "Let's say we want to numerically estimate the following \n"
   ]
  }
 ],
 "metadata": {
  "kernelspec": {
   "display_name": "venv",
   "language": "python",
   "name": "python3"
  },
  "language_info": {
   "name": "python",
   "version": "3.10.9"
  }
 },
 "nbformat": 4,
 "nbformat_minor": 2
}
