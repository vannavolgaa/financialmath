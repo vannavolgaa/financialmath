{
 "cells": [
  {
   "cell_type": "markdown",
   "metadata": {},
   "source": [
    "# Stochastic volatility inspired \n",
    "\n",
    "## Jump wings representation\n",
    "\n",
    "\n"
   ]
  },
  {
   "cell_type": "code",
   "execution_count": null,
   "metadata": {},
   "outputs": [],
   "source": [
    "from financialmath.model.svi import StochasticVolatilityInspired\n",
    "import matplotlib.pyplot as plt \n",
    "import numpy as np\n",
    "k_vector = np.linspace(-1,1,100)\n",
    "axel_vogt = StochasticVolatilityInspired(\n",
    "    atm_variance=0.01742625, \n",
    "    atm_skew=-0.1752111, \n",
    "    slope_put_wing=0.6997381, \n",
    "    slope_call_wing=1.316798, \n",
    "    min_variance=0.0116249, \n",
    "    t=1) \n",
    "\n",
    "arbitrage_free_axel_vogt = StochasticVolatilityInspired(\n",
    "    atm_variance=0.01742625, \n",
    "    atm_skew=-0.1752111, \n",
    "    slope_put_wing=0.6997381, \n",
    "    slope_call_wing=0.8564763, \n",
    "    min_variance=0.0116249, \n",
    "    t=1) "
   ]
  },
  {
   "cell_type": "markdown",
   "metadata": {},
   "source": [
    "## total variance\n",
    "$$w(k) = a+b(\\rho(k-m) + \\sqrt{(k-m)^2 + \\sigma^2}$$"
   ]
  },
  {
   "cell_type": "code",
   "execution_count": null,
   "metadata": {},
   "outputs": [],
   "source": [
    "\n",
    "plt.plot(k_vector, axel_vogt.total_variance(k=k_vector))\n",
    "plt.plot(k_vector, arbitrage_free_axel_vogt.total_variance(k=k_vector))\n",
    "plt.legend(['Axel Vogt with arbitrage', 'Axel Vogt arbitrage_free'])\n",
    "plt.show()"
   ]
  },
  {
   "cell_type": "markdown",
   "metadata": {},
   "source": [
    "## risk neutral density\n",
    "$$\\frac{\\partial w}{\\partial k} = b(\\rho + \\frac{k-m}{\\sqrt{(k-m)^2 + \\sigma^2}})$$\n",
    "\n",
    "$$\\frac{\\partial^2 w}{\\partial k^2} = \n",
    "b\\frac{\\sqrt{(k-m)^2 + \\sigma^2} - (k-m)^2/\\sqrt{(k-m)^2 + \\sigma^2}}{(k-m)^2 + \\sigma^2}$$\n",
    "\n",
    "$$g(k) = (1 - \\frac{kw'(k)}{2w(k)})^2 - \\frac{w'(k)^2}{4}(\\frac{1}{w(k)} + \\frac{1}{4}) + \\frac{w''(k)}{2}\\$$\n"
   ]
  },
  {
   "cell_type": "code",
   "execution_count": null,
   "metadata": {},
   "outputs": [],
   "source": [
    "plt.plot(k_vector, axel_vogt.risk_neutral_density(k=k_vector))\n",
    "plt.plot(k_vector, arbitrage_free_axel_vogt.risk_neutral_density(k=k_vector))\n",
    "plt.legend(['Axel Vogt with arbitrage', 'Axel Vogt arbitrage_free'])\n",
    "plt.show()\n"
   ]
  },
  {
   "cell_type": "markdown",
   "metadata": {},
   "source": [
    "## derivative of total variance with respect to t\n",
    "$$w_t = \\upsilon_tt$$\n",
    "$$b = 0.5\\sqrt{w_t}(c_t+p_t)$$\n",
    "$$\\rho =1 - \\frac{p_t\\sqrt{w_t}}{b}$$\n",
    "$$\\beta = \\rho - \\frac{4\\psi}{c_t+p_t}$$\n",
    "$$\\alpha = \\text{sign}(\\beta)\\sqrt{\\frac{1}{\\beta^2}-1}$$\n",
    "$$m = \\frac{(\\upsilon_t - \\tilde{\\upsilon_t})t}{b(-\\rho + \\text{sign}(\\alpha)\\sqrt{1+\\alpha^2} - \\alpha\\sqrt{1-\\rho^2})} = A \\frac{t}{b}$$\n",
    "$$a=\n",
    "\\left\\{ \n",
    "  \\begin{aligned}\n",
    "  \\frac{t\\upsilon_tt+\\tilde{\\upsilon_t}\\sqrt{1-\\rho^2}}{1-\\sqrt{1-\\rho^2}} \\text{ if } m = 0,\\\\\n",
    "  t\\tilde{\\upsilon_t} - b\\sigma\\sqrt{1-\\rho^2} \\text{ otherwise.}\\\\\n",
    "  \\end{aligned}\n",
    "  \\right.\n",
    "$$\n",
    "$$\\sigma=\n",
    "\\left\\{ \n",
    "  \\begin{aligned}\n",
    "  \\frac{\\upsilon_tt-a}{b} \\text{ if } m = 0,\\\\\n",
    "  \\alpha * m \\text{ otherwise.}\\\\\n",
    "  \\end{aligned}\n",
    "  \\right.\n",
    "$$\n",
    "\n",
    "$$\\frac{\\partial m}{\\partial t} = A \\frac{b-t\\frac{\\partial b}{\\partial t}}{b^2}$$\n",
    "$$\\frac{\\partial b}{\\partial t} = \\frac{\\sqrt{\\upsilon_t}(c_t+p_t)}{4\\sqrt{t}}$$\n",
    "\n",
    "\n",
    "\n"
   ]
  }
 ],
 "metadata": {
  "language_info": {
   "name": "python"
  }
 },
 "nbformat": 4,
 "nbformat_minor": 2
}
