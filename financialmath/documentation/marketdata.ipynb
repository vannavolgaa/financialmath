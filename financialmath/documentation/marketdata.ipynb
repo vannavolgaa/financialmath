{
 "cells": [
  {
   "cell_type": "markdown",
   "metadata": {},
   "source": [
    "# Market Data \n",
    "\n",
    "## 1 - Schemas \n",
    "\n",
    "In this module are defined the main objects to represent market data: \n",
    "\n",
    "- The term structures: composed of a list of TermPoint which is the combinaison of a future time to a value. The most common term structure existing in Finance is the yield curve representing the market expectations of the future interest rates for a given time period in the future. Term structure can also applied to volatility, the most common being the At-The-Money volatility term structure, very useful to construct volatility surface. \n",
    "- The volatility surface: Volatility market is very specific over the representation into \"Surface\". it actually comes from the limits of the famous Black-Scholes model using a constant volatility (implied volatility) to price an option. The terms Smile, Skew came after 1987 financial market crash and the understanding that extremes events were not well priced by the market. The Volatility surface is a representation of the implied volatility term structure for different levels of moneyness (in-the-money, at-the-money, out-the-money or even more precise).\n",
    "\n",
    "Also, \n",
    "\n",
    "## 2 -  Implied Yield "
   ]
  },
  {
   "cell_type": "code",
   "execution_count": null,
   "metadata": {
    "vscode": {
     "languageId": "plaintext"
    }
   },
   "outputs": [],
   "source": [
    "### a - Zero Couppon Bond"
   ]
  },
  {
   "cell_type": "markdown",
   "metadata": {},
   "source": [
    "## 3 - Implied Volatility "
   ]
  }
 ],
 "metadata": {
  "language_info": {
   "name": "python"
  }
 },
 "nbformat": 4,
 "nbformat_minor": 2
}
