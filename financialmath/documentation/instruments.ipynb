{
 "cells": [
  {
   "cell_type": "markdown",
   "metadata": {},
   "source": [
    "# Instruments\n",
    "\n",
    "This part defines all instruments used in financialmath into objects. For now, options, futures, spot and zero coupon bond are defined. An extension could be made for fixed income type products. MarketQuotes objects assign to an instrument an observed bid/ask given by the market. It will useful for calibration purposes or to implied market data such as zero coupon bonds, implied volatility, implied dividend, etc.."
   ]
  },
  {
   "cell_type": "markdown",
   "metadata": {},
   "source": [
    "## 1 - Option\n",
    "\n",
    "The option object is defined in 2 parts : \n",
    "- definition of the payoff : early exercise, lookback/asian features, barriers features, forward start features, etc..\n",
    "- specification of the contract's details : strike, expiry, barriers, bermudan time, observation time , etc..\n"
   ]
  },
  {
   "cell_type": "code",
   "execution_count": null,
   "metadata": {},
   "outputs": [],
   "source": [
    "from financialmath.instruments.option import * \n",
    "import numpy as np \n",
    "\n",
    "# European vanilla call (strike 100 and expiry 6 months)\n",
    "evc_payoff = OptionPayoff(\n",
    "    option_type=OptionalityType.call, \n",
    "    exercise=ExerciseType.european)\n",
    "evc_specification = OptionSpecification(\n",
    "    strike = 100, \n",
    "    tenor = OptionTenor(expiry = 0.5))\n",
    "evc = Option(specification=evc_specification, payoff=evc_payoff)\n",
    "market_quote_evc = MarketOptionQuotes(bid = 10, ask = 12, option = evc)\n",
    "\n",
    "# American vanilla put (strike 100 and expiry 1 year and 6 months)\n",
    "avc_payoff = OptionPayoff(\n",
    "    option_type=OptionalityType.put, \n",
    "    exercise=ExerciseType.american)\n",
    "avc_specification = OptionSpecification(\n",
    "    strike = 100, \n",
    "    tenor = OptionTenor(expiry = 1.5))\n",
    "avc = Option(specification=evc_specification, payoff=evc_payoff)\n",
    "market_quote_evc = MarketOptionQuotes(bid = 10, ask = 12, option = evc)\n",
    "\n",
    "# European vanilla call with continuous up and in barrier (strike 100, BarrierUp 120 and expiry 6 months)\n",
    "evcbui_payoff = OptionPayoff(\n",
    "    option_type=OptionalityType.call, \n",
    "    exercise=ExerciseType.european, \n",
    "    barrier_type=BarrierType.up_and_in, \n",
    "    barrier_obervation=ObservationType.continuous)\n",
    "evcbui_specification = OptionSpecification(\n",
    "    strike = 100, \n",
    "    tenor = OptionTenor(expiry = .5), \n",
    "    barrier_up=120)\n",
    "evcbui = Option(specification=evcbui_specification, payoff=evcbui_payoff)\n",
    "market_quote_evc = MarketOptionQuotes(bid = 10, ask = 12, option = evc)\n",
    "\n",
    "spot_vector = np.linspace(0,200,100)\n",
    "evc.payoff_object(spot_vector).payoff_viewer()\n",
    "\n"
   ]
  },
  {
   "cell_type": "markdown",
   "metadata": {},
   "source": [
    "## 2 - Future\n",
    "\n",
    "Futures are defined based on their asset class and their expiry. "
   ]
  },
  {
   "cell_type": "code",
   "execution_count": null,
   "metadata": {},
   "outputs": [],
   "source": [
    "from financialmath.instruments.futures import * \n",
    "\n",
    "# FX Future with 1 year expiry \n",
    "\n",
    "fxfut = Future(expiry=1, future_type=FutureType.fx)\n",
    "fxfut_quote = MarketFutureQuotes(bid = 100, ask = 102, future = fxfut)\n",
    "\n",
    "# Interest Rate Future with 10 year expiry \n",
    "\n",
    "irfut = Future(expiry=10, future_type=FutureType.interest_rate)\n",
    "irfut_quote = MarketFutureQuotes(bid = 98, ask = 98.5, future = irfut)"
   ]
  },
  {
   "cell_type": "markdown",
   "metadata": {},
   "source": [
    "## 3 - Spot \n",
    "\n",
    "Spot is just defined as an empty object since nothing has to be defined for this type of instrument "
   ]
  },
  {
   "cell_type": "code",
   "execution_count": null,
   "metadata": {},
   "outputs": [],
   "source": [
    "from financialmath.instruments.spot import * \n",
    "\n",
    "spot = Spot()\n",
    "spot_quotes = MarketSpotQuotes(bid = 100, ask = 100.5, spot=spot)"
   ]
  },
  {
   "cell_type": "markdown",
   "metadata": {},
   "source": [
    "## 4 - Zero Coupon Bond \n",
    "\n",
    "Zero coupon Bond are only defined by their time to exiry. "
   ]
  },
  {
   "cell_type": "code",
   "execution_count": null,
   "metadata": {},
   "outputs": [],
   "source": [
    "from financialmath.instruments.zcbond import * \n",
    "\n",
    "# 1year zero coupon bond \n",
    "zcbond = ZCBond(expiry=1)\n",
    "zcbond_quotes = MarketZCBondQuotes(bid = 98, ask = 99.5, zcbond=zcbond)"
   ]
  }
 ],
 "metadata": {
  "kernelspec": {
   "display_name": "venv",
   "language": "python",
   "name": "python3"
  },
  "language_info": {
   "codemirror_mode": {
    "name": "ipython",
    "version": 3
   },
   "file_extension": ".py",
   "mimetype": "text/x-python",
   "name": "python",
   "nbconvert_exporter": "python",
   "pygments_lexer": "ipython3",
   "version": "3.10.9"
  }
 },
 "nbformat": 4,
 "nbformat_minor": 2
}
