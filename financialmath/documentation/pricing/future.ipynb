{
 "cells": [
  {
   "cell_type": "markdown",
   "metadata": {},
   "source": [
    "# Pricing of Future derivative contract \n",
    "\n",
    "## 1 - Equity, crypto, commodity and FX Future\n",
    "\n",
    "A Future is a contract where a settlement price is determined at a date $t$ for the exchange to take place at time $T$ with $T>t$. Depending on the nature of the underlying, different methods exist to price such a contract. We will write: \n",
    "- $\\tau = T-t$: the time fraction before the settlement of the contract\n",
    "- $S_t$ the underlying's spot price at time $t$ \n",
    "- $x_t$ the annualized \"risk-free\" drift of the underlying priced by the market at time $t$, this drift depends on which asset class the underlying belongs\n",
    "\n",
    "From the general case, the future contract can be priced by: \n",
    "$$ F(t,T) = S(t)e^{\\tau x(t,T)}$$\n",
    "\n",
    "From $F_t$, it is easy to compute its sensitivities: \n",
    "$$ \\Delta = \\frac{\\partial F}{\\partial S} = e^{\\tau x(t,T)} $$\n",
    "$$ \\rho = \\frac{\\partial F}{\\partial x} = \\tau F(t,T) $$\n",
    "$$ \\theta = \\frac{\\partial F}{\\partial \\tau} = x(t,T) F(t,T) $$\n",
    "\n",
    "### a- Equity futures\n",
    "\n",
    "the particularity of equity future is that the underlying can pay dividends in some point of time in the future which will negatively impact the underlying's spot price at the same time. Thus there exists possible jumps in the future spot price which must be priced in the corresponding future contracts. Let's assume an investor seeks to have one unit of the underlying at time $T$ which pays a continuous dividend yield $q$ therefore $e^{-q\\tau}$ unit must be bought at $t$. the future profit will be given by: \n",
    "$$\\Pi = S(T) - e^{r\\tau}e^{-q\\tau}S(t)$$ \n",
    "Therefore, the arbitrage free price at time $t$ of this contract is: \n",
    "$$F(t,T) =  S(t)e^{(r-q)\\tau}$$ \n",
    "which gives $x(t,T) = (r-q)$\n",
    "\n",
    "\n",
    "\n",
    "## 2 - Interest rate Future\n",
    "\n",
    "## 3 - Bond Future"
   ]
  }
 ],
 "metadata": {
  "language_info": {
   "name": "python"
  }
 },
 "nbformat": 4,
 "nbformat_minor": 2
}
